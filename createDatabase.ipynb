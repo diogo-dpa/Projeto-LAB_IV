{
 "nbformat": 4,
 "nbformat_minor": 2,
 "metadata": {
  "language_info": {
   "name": "python",
   "codemirror_mode": {
    "name": "ipython",
    "version": 3
   },
   "version": "3.7.7-final"
  },
  "orig_nbformat": 2,
  "file_extension": ".py",
  "mimetype": "text/x-python",
  "name": "python",
  "npconvert_exporter": "python",
  "pygments_lexer": "ipython3",
  "version": 3,
  "kernelspec": {
   "name": "python37764bit5f5767fe6d63422d85f4734bd0190746",
   "display_name": "Python 3.7.7 64-bit"
  }
 },
 "cells": [
  {
   "cell_type": "code",
   "execution_count": 14,
   "metadata": {
    "tags": []
   },
   "outputs": [
    {
     "output_type": "stream",
     "name": "stdout",
     "text": "Criou pasta Teste\nAnalisando: Teste\n"
    },
    {
     "output_type": "error",
     "ename": "error",
     "evalue": "OpenCV(4.2.0) C:\\projects\\opencv-python\\opencv\\modules\\objdetect\\src\\cascadedetect.cpp:1689: error: (-215:Assertion failed) !empty() in function 'cv::CascadeClassifier::detectMultiScale'\n",
     "traceback": [
      "\u001b[1;31m---------------------------------------------------------------------------\u001b[0m",
      "\u001b[1;31merror\u001b[0m                                     Traceback (most recent call last)",
      "\u001b[1;32m<ipython-input-14-5857d4157b8f>\u001b[0m in \u001b[0;36m<module>\u001b[1;34m\u001b[0m\n\u001b[0;32m     76\u001b[0m \u001b[1;33m\u001b[0m\u001b[0m\n\u001b[0;32m     77\u001b[0m \u001b[1;32mif\u001b[0m \u001b[0m__name__\u001b[0m \u001b[1;33m==\u001b[0m \u001b[1;34m\"__main__\"\u001b[0m\u001b[1;33m:\u001b[0m\u001b[1;33m\u001b[0m\u001b[1;33m\u001b[0m\u001b[0m\n\u001b[1;32m---> 78\u001b[1;33m     \u001b[0mmain\u001b[0m\u001b[1;33m(\u001b[0m\u001b[1;33m)\u001b[0m\u001b[1;33m\u001b[0m\u001b[1;33m\u001b[0m\u001b[0m\n\u001b[0m",
      "\u001b[1;32m<ipython-input-14-5857d4157b8f>\u001b[0m in \u001b[0;36mmain\u001b[1;34m()\u001b[0m\n\u001b[0;32m     72\u001b[0m     \u001b[1;32mfor\u001b[0m \u001b[0mnome\u001b[0m \u001b[1;32min\u001b[0m \u001b[0mlistaNome\u001b[0m\u001b[1;33m:\u001b[0m\u001b[1;33m\u001b[0m\u001b[1;33m\u001b[0m\u001b[0m\n\u001b[0;32m     73\u001b[0m         \u001b[0mprint\u001b[0m\u001b[1;33m(\u001b[0m\u001b[1;34m\"Analisando: \"\u001b[0m \u001b[1;33m+\u001b[0m \u001b[0mnome\u001b[0m\u001b[1;33m)\u001b[0m\u001b[1;33m\u001b[0m\u001b[1;33m\u001b[0m\u001b[0m\n\u001b[1;32m---> 74\u001b[1;33m         \u001b[0msalvaFacesDetectadas\u001b[0m\u001b[1;33m(\u001b[0m\u001b[0mnome\u001b[0m\u001b[1;33m)\u001b[0m\u001b[1;33m\u001b[0m\u001b[1;33m\u001b[0m\u001b[0m\n\u001b[0m\u001b[0;32m     75\u001b[0m \u001b[1;33m\u001b[0m\u001b[0m\n\u001b[0;32m     76\u001b[0m \u001b[1;33m\u001b[0m\u001b[0m\n",
      "\u001b[1;32m<ipython-input-14-5857d4157b8f>\u001b[0m in \u001b[0;36msalvaFacesDetectadas\u001b[1;34m(nome)\u001b[0m\n\u001b[0;32m     43\u001b[0m \u001b[1;33m\u001b[0m\u001b[0m\n\u001b[0;32m     44\u001b[0m         \u001b[0mgray\u001b[0m \u001b[1;33m=\u001b[0m \u001b[0mcv2\u001b[0m\u001b[1;33m.\u001b[0m\u001b[0mcvtColor\u001b[0m\u001b[1;33m(\u001b[0m\u001b[0mimg\u001b[0m\u001b[1;33m,\u001b[0m \u001b[0mcv2\u001b[0m\u001b[1;33m.\u001b[0m\u001b[0mCOLOR_BGR2GRAY\u001b[0m\u001b[1;33m)\u001b[0m\u001b[1;33m\u001b[0m\u001b[1;33m\u001b[0m\u001b[0m\n\u001b[1;32m---> 45\u001b[1;33m         \u001b[0mfaces\u001b[0m \u001b[1;33m=\u001b[0m \u001b[0mface_cascade\u001b[0m\u001b[1;33m.\u001b[0m\u001b[0mdetectMultiScale\u001b[0m\u001b[1;33m(\u001b[0m\u001b[0mgray\u001b[0m\u001b[1;33m,\u001b[0m \u001b[1;36m1.3\u001b[0m\u001b[1;33m,\u001b[0m \u001b[1;36m5\u001b[0m\u001b[1;33m)\u001b[0m\u001b[1;33m\u001b[0m\u001b[1;33m\u001b[0m\u001b[0m\n\u001b[0m\u001b[0;32m     46\u001b[0m \u001b[1;33m\u001b[0m\u001b[0m\n\u001b[0;32m     47\u001b[0m         \u001b[1;31m#se nenhuma face for achada, continue\u001b[0m\u001b[1;33m\u001b[0m\u001b[1;33m\u001b[0m\u001b[1;33m\u001b[0m\u001b[0m\n",
      "\u001b[1;31merror\u001b[0m: OpenCV(4.2.0) C:\\projects\\opencv-python\\opencv\\modules\\objdetect\\src\\cascadedetect.cpp:1689: error: (-215:Assertion failed) !empty() in function 'cv::CascadeClassifier::detectMultiScale'\n"
     ]
    }
   ],
   "source": [
    "# Importa as bibliotecas \n",
    "import numpy as np\n",
    "import cv2\n",
    "import os\n",
    "\n",
    "# Carrega os nomes no arquivo txt dos vídeos a serem \"capturados\"\n",
    "def carregaNomesASeremLidos(txt):\n",
    "    listaNome = []\n",
    "    pFile = open(txt, \"r\")\n",
    "    for line in pFile:\n",
    "        listaNome.append(line.rstrip())\n",
    "    return listaNome\n",
    "\n",
    "# Cria o nome das pastas de acordo com o nome dno arquivo txt\n",
    "def criaPastaComNomes(listaNomes):\n",
    "    for nome in listaNomes:\n",
    "        try:\n",
    "            print(\"Criou pasta \" + nome)\n",
    "            os.mkdir(nome)\n",
    "        except OSError:\n",
    "            print(\"Não foi possível criar o diretório ou o mesmo já existe.\")\n",
    "\n",
    "# Realiza a captura das faces no vídeo\n",
    "def salvaFacesDetectadas(nome):\n",
    "    pathFile = r'C:\\\\Users\\\\diogo\\\\AppData\\\\Local\\\\Programs\\\\Python\\\\Python37\\\\Lib\\\\site-packages\\\\cv2\\\\data\\\\haarcascade_frontalface_default.xml'\n",
    "    # pathFile = r\"{}\\\\GUI-Lab-IV\\\\haarcascade\\\\haarcascade_frontalface_default.xml\".format(os.getcwd())\n",
    "    face_cascade = cv2.CascadeClassifier(pathFile)\n",
    "    cap = cv2.VideoCapture(nome + \".mp4\") #inicia captura da câmera\n",
    "\n",
    "    counterFrames = 0\n",
    "\n",
    "    # Número de amostras\n",
    "    limitSamples = 1000\n",
    "\n",
    "    while(counterFrames < limitSamples): #quando chegar ao milésimo frame, para\n",
    "        # print(counterFrames)\n",
    "        ret, img = cap.read()\n",
    "\n",
    "        #frame não pode ser obtido? entao sair\n",
    "        if(ret == False):\n",
    "            cap.release()\n",
    "            return\n",
    "\n",
    "        gray = cv2.cvtColor(img, cv2.COLOR_BGR2GRAY)\n",
    "        faces = face_cascade.detectMultiScale(gray, 1.3, 5)\n",
    "\n",
    "        #se nenhuma face for achada, continue\n",
    "        if not np.any(faces):\n",
    "            continue\n",
    "\n",
    "        #achou uma face? recorte ela (crop)\n",
    "        for (x, y, w, h) in faces:\n",
    "            rostoImg = img[y:y+h, x:x+w]\n",
    "\n",
    "        #imagens muito pequenas são desconsideradas\n",
    "        larg, alt, _ = rostoImg.shape\n",
    "        if(larg * alt <= 20 * 20):\n",
    "            continue\n",
    "\n",
    "        #salva imagem na pasta\n",
    "        rostoImg = cv2.resize(rostoImg, (255, 255))\n",
    "        cv2.imwrite(nome + \"/\" + str(counterFrames)+\".jpg\", rostoImg)\n",
    "        counterFrames += 1\n",
    "        if(counterFrames%100 == 0){\n",
    "            print(\"%i capturas geradas!\"%counterFrames)\n",
    "    print('Capturas finalizadas!')\n",
    "    cap.release()\n",
    "\n",
    "#função principal da aplicação\n",
    "def main():\n",
    "    listaNome = carregaNomesASeremLidos(\"nomesDosVideos.txt\")\n",
    "    criaPastaComNomes(listaNome)\n",
    "\n",
    "    for nome in listaNome:\n",
    "        print(\"Analisando: \" + nome)\n",
    "        salvaFacesDetectadas(nome)\n",
    "\n",
    "\n",
    "if __name__ == \"__main__\":\n",
    "    main()"
   ]
  }
 ]
}